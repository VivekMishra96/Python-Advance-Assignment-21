{
 "cells": [
  {
   "cell_type": "markdown",
   "id": "a63add80",
   "metadata": {},
   "source": [
    "1.What is a probability distribution, exactly? If the values are meant to be random, how can you predict them at all "
   ]
  },
  {
   "cell_type": "markdown",
   "id": "670dff52",
   "metadata": {},
   "source": [
    "#ans.\n",
    " A probability distribution describes how a random variable is distributed.\n",
    "\n",
    "It tells us which values a random variable is most likely to take on and which values are less likely. Based on the previous data and the occurences of the random event, we can predict the outcome in terms of probabilities."
   ]
  },
  {
   "cell_type": "markdown",
   "id": "4d6927a5",
   "metadata": {},
   "source": [
    "2. Is there a distinction between true random numbers and pseudo-random numbers, if there is one? Why are the latter considered “good enoug"
   ]
  },
  {
   "cell_type": "markdown",
   "id": "0838a8d2",
   "metadata": {},
   "source": [
    "#ans.\n",
    "True Random Numbers are true physical values while pseudo-random numbers are generated internally by a program . Latter is considered good enough as they have sort of uniform distribution."
   ]
  },
  {
   "cell_type": "code",
   "execution_count": null,
   "id": "c5e10d6c",
   "metadata": {},
   "outputs": [],
   "source": [
    "3.What are the two main factors that influence the behaviour of a \"normal\" probability distribution ?"
   ]
  },
  {
   "cell_type": "code",
   "execution_count": null,
   "id": "68854907",
   "metadata": {},
   "outputs": [],
   "source": [
    "#ans.\n",
    "Normal Probability Distribution are influenced by two factors mean and the variance."
   ]
  },
  {
   "cell_type": "code",
   "execution_count": null,
   "id": "e8b2fec6",
   "metadata": {},
   "outputs": [],
   "source": [
    "4.Provide a real-life example of a normal distribution ?"
   ]
  },
  {
   "cell_type": "code",
   "execution_count": 1,
   "id": "d904e7bf",
   "metadata": {},
   "outputs": [],
   "source": [
    "#ans.\n",
    "A Real-life example of a normal distribution are heights or blood pressure measurements"
   ]
  },
  {
   "cell_type": "markdown",
   "id": "5424faf0",
   "metadata": {},
   "source": [
    "5.n the short term, how can you expect a probability distribution to behave? What do you think will happen as the number of trials grows"
   ]
  },
  {
   "cell_type": "code",
   "execution_count": null,
   "id": "8c8ff514",
   "metadata": {},
   "outputs": [],
   "source": [
    "#ans.\n",
    "Variance will decrease with number of trials"
   ]
  },
  {
   "cell_type": "code",
   "execution_count": null,
   "id": "520979ce",
   "metadata": {},
   "outputs": [],
   "source": [
    "6.. What kind of object can be shuffled by using random.shuffle ?"
   ]
  },
  {
   "cell_type": "code",
   "execution_count": null,
   "id": "8a401d86",
   "metadata": {},
   "outputs": [],
   "source": [
    "#ans.\n",
    "ists (list), strings (str) and tuples (tuple) objects can be shuffled by using random.shuffle."
   ]
  },
  {
   "cell_type": "code",
   "execution_count": null,
   "id": "c423d80f",
   "metadata": {},
   "outputs": [],
   "source": [
    "7.Describe the math package's general categories of functions ?"
   ]
  },
  {
   "cell_type": "code",
   "execution_count": null,
   "id": "1453aebf",
   "metadata": {},
   "outputs": [],
   "source": [
    "#ans.The Math package's general categories of functions are:\n",
    "\n",
    "Trigonometric functions\n",
    "Quadratic functions\n",
    "Exponential functions\n",
    "Hyperbolic functions\n",
    "Periodic functions\n",
    "Arithmetic functions\n",
    "Logarithimic functions\n",
    "Conversions to Integer\n"
   ]
  },
  {
   "cell_type": "code",
   "execution_count": null,
   "id": "46545b12",
   "metadata": {},
   "outputs": [],
   "source": [
    "8. What is the relationship between exponentiation and logarithms ?"
   ]
  },
  {
   "cell_type": "code",
   "execution_count": null,
   "id": "6aa90ab9",
   "metadata": {},
   "outputs": [],
   "source": [
    "#ans.\n",
    "Exponentiation and logarithms are inverse of each other."
   ]
  },
  {
   "cell_type": "code",
   "execution_count": null,
   "id": "3966131a",
   "metadata": {},
   "outputs": [],
   "source": [
    "9.What are the three logarithmic functions that Python supports ?"
   ]
  },
  {
   "cell_type": "code",
   "execution_count": null,
   "id": "b198119e",
   "metadata": {},
   "outputs": [],
   "source": [
    "#ans.\n",
    "he Three Logarithmic Functions that Python supports are:\n",
    "\n",
    "log2(x) - logarithmic value of x to base 2\n",
    "log10(x) - logarithmic value of x to base 10\n",
    "log1p(a) - This function is used to compute logarithm(1+a) ."
   ]
  },
  {
   "cell_type": "code",
   "execution_count": null,
   "id": "9f098371",
   "metadata": {},
   "outputs": [],
   "source": []
  }
 ],
 "metadata": {
  "kernelspec": {
   "display_name": "Python 3 (ipykernel)",
   "language": "python",
   "name": "python3"
  },
  "language_info": {
   "codemirror_mode": {
    "name": "ipython",
    "version": 3
   },
   "file_extension": ".py",
   "mimetype": "text/x-python",
   "name": "python",
   "nbconvert_exporter": "python",
   "pygments_lexer": "ipython3",
   "version": "3.9.7"
  }
 },
 "nbformat": 4,
 "nbformat_minor": 5
}
